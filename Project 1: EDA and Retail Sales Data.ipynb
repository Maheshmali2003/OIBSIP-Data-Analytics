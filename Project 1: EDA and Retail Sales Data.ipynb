{
 "cells": [
  {
   "cell_type": "markdown",
   "id": "c3db8eb0",
   "metadata": {},
   "source": [
    "# Project 1: EDA and Retail Sales Data"
   ]
  },
  {
   "cell_type": "markdown",
   "id": "1ae3ce59",
   "metadata": {},
   "source": [
    "# Key Concepts and Challenges:\n",
    "Data Loading and Cleaning:\n",
    "\n",
    "1.Load the retail sales dataset.\n",
    "\n",
    "\n",
    "2.Descriptive Statistics: Calculate basic statistics (mean, median, mode, standard deviation).\n",
    "\n",
    "\n",
    "3.Time Series Analysis: Analyze sales trends over time using time series techniques.\n",
    "\n",
    "\n",
    "4.Customer and Product Analysis: Analyze customer demographics and purchasing behavior.\n",
    "\n",
    "\n",
    "5.Visualization: Present insights through bar charts, line plots, and heatmaps.\n",
    "\n",
    "\n",
    "6.Recommendations: Provide actionable recommendations based on the EDA."
   ]
  },
  {
   "cell_type": "code",
   "execution_count": null,
   "id": "8355fc52",
   "metadata": {},
   "outputs": [],
   "source": [
    "import numpy as np\n",
    "import pandas as pd"
   ]
  },
  {
   "cell_type": "markdown",
   "id": "8abe9a4e",
   "metadata": {},
   "source": [
    "# 1.Load the retail sales dataset."
   ]
  },
  {
   "cell_type": "code",
   "execution_count": null,
   "id": "58eeaeca",
   "metadata": {},
   "outputs": [],
   "source": [
    "\n",
    "df = pd.read_csv(\"EDA_Dataset.csv\")"
   ]
  },
  {
   "cell_type": "code",
   "execution_count": 48,
   "id": "6488943c",
   "metadata": {},
   "outputs": [
    {
     "data": {
      "text/html": [
       "<div>\n",
       "<style scoped>\n",
       "    .dataframe tbody tr th:only-of-type {\n",
       "        vertical-align: middle;\n",
       "    }\n",
       "\n",
       "    .dataframe tbody tr th {\n",
       "        vertical-align: top;\n",
       "    }\n",
       "\n",
       "    .dataframe thead th {\n",
       "        text-align: right;\n",
       "    }\n",
       "</style>\n",
       "<table border=\"1\" class=\"dataframe\">\n",
       "  <thead>\n",
       "    <tr style=\"text-align: right;\">\n",
       "      <th></th>\n",
       "      <th>Category</th>\n",
       "      <th>Item</th>\n",
       "      <th>Serving Size</th>\n",
       "      <th>Calories</th>\n",
       "      <th>Calories from Fat</th>\n",
       "      <th>Total Fat</th>\n",
       "      <th>Total Fat (% Daily Value)</th>\n",
       "      <th>Saturated Fat</th>\n",
       "      <th>Saturated Fat (% Daily Value)</th>\n",
       "      <th>Trans Fat</th>\n",
       "      <th>...</th>\n",
       "      <th>Carbohydrates</th>\n",
       "      <th>Carbohydrates (% Daily Value)</th>\n",
       "      <th>Dietary Fiber</th>\n",
       "      <th>Dietary Fiber (% Daily Value)</th>\n",
       "      <th>Sugars</th>\n",
       "      <th>Protein</th>\n",
       "      <th>Vitamin A (% Daily Value)</th>\n",
       "      <th>Vitamin C (% Daily Value)</th>\n",
       "      <th>Calcium (% Daily Value)</th>\n",
       "      <th>Iron (% Daily Value)</th>\n",
       "    </tr>\n",
       "  </thead>\n",
       "  <tbody>\n",
       "    <tr>\n",
       "      <th>0</th>\n",
       "      <td>Breakfast</td>\n",
       "      <td>Egg McMuffin</td>\n",
       "      <td>4.8 oz (136 g)</td>\n",
       "      <td>300</td>\n",
       "      <td>120</td>\n",
       "      <td>13.0</td>\n",
       "      <td>20</td>\n",
       "      <td>5.0</td>\n",
       "      <td>25</td>\n",
       "      <td>0.0</td>\n",
       "      <td>...</td>\n",
       "      <td>31</td>\n",
       "      <td>10</td>\n",
       "      <td>4</td>\n",
       "      <td>17</td>\n",
       "      <td>3</td>\n",
       "      <td>17</td>\n",
       "      <td>10</td>\n",
       "      <td>0</td>\n",
       "      <td>25</td>\n",
       "      <td>15</td>\n",
       "    </tr>\n",
       "    <tr>\n",
       "      <th>1</th>\n",
       "      <td>Breakfast</td>\n",
       "      <td>Egg White Delight</td>\n",
       "      <td>4.8 oz (135 g)</td>\n",
       "      <td>250</td>\n",
       "      <td>70</td>\n",
       "      <td>8.0</td>\n",
       "      <td>12</td>\n",
       "      <td>3.0</td>\n",
       "      <td>15</td>\n",
       "      <td>0.0</td>\n",
       "      <td>...</td>\n",
       "      <td>30</td>\n",
       "      <td>10</td>\n",
       "      <td>4</td>\n",
       "      <td>17</td>\n",
       "      <td>3</td>\n",
       "      <td>18</td>\n",
       "      <td>6</td>\n",
       "      <td>0</td>\n",
       "      <td>25</td>\n",
       "      <td>8</td>\n",
       "    </tr>\n",
       "    <tr>\n",
       "      <th>2</th>\n",
       "      <td>Breakfast</td>\n",
       "      <td>Sausage McMuffin</td>\n",
       "      <td>3.9 oz (111 g)</td>\n",
       "      <td>370</td>\n",
       "      <td>200</td>\n",
       "      <td>23.0</td>\n",
       "      <td>35</td>\n",
       "      <td>8.0</td>\n",
       "      <td>42</td>\n",
       "      <td>0.0</td>\n",
       "      <td>...</td>\n",
       "      <td>29</td>\n",
       "      <td>10</td>\n",
       "      <td>4</td>\n",
       "      <td>17</td>\n",
       "      <td>2</td>\n",
       "      <td>14</td>\n",
       "      <td>8</td>\n",
       "      <td>0</td>\n",
       "      <td>25</td>\n",
       "      <td>10</td>\n",
       "    </tr>\n",
       "    <tr>\n",
       "      <th>3</th>\n",
       "      <td>Breakfast</td>\n",
       "      <td>Sausage McMuffin with Egg</td>\n",
       "      <td>5.7 oz (161 g)</td>\n",
       "      <td>450</td>\n",
       "      <td>250</td>\n",
       "      <td>28.0</td>\n",
       "      <td>43</td>\n",
       "      <td>10.0</td>\n",
       "      <td>52</td>\n",
       "      <td>0.0</td>\n",
       "      <td>...</td>\n",
       "      <td>30</td>\n",
       "      <td>10</td>\n",
       "      <td>4</td>\n",
       "      <td>17</td>\n",
       "      <td>2</td>\n",
       "      <td>21</td>\n",
       "      <td>15</td>\n",
       "      <td>0</td>\n",
       "      <td>30</td>\n",
       "      <td>15</td>\n",
       "    </tr>\n",
       "    <tr>\n",
       "      <th>4</th>\n",
       "      <td>Breakfast</td>\n",
       "      <td>Sausage McMuffin with Egg Whites</td>\n",
       "      <td>5.7 oz (161 g)</td>\n",
       "      <td>400</td>\n",
       "      <td>210</td>\n",
       "      <td>23.0</td>\n",
       "      <td>35</td>\n",
       "      <td>8.0</td>\n",
       "      <td>42</td>\n",
       "      <td>0.0</td>\n",
       "      <td>...</td>\n",
       "      <td>30</td>\n",
       "      <td>10</td>\n",
       "      <td>4</td>\n",
       "      <td>17</td>\n",
       "      <td>2</td>\n",
       "      <td>21</td>\n",
       "      <td>6</td>\n",
       "      <td>0</td>\n",
       "      <td>25</td>\n",
       "      <td>10</td>\n",
       "    </tr>\n",
       "  </tbody>\n",
       "</table>\n",
       "<p>5 rows × 24 columns</p>\n",
       "</div>"
      ],
      "text/plain": [
       "    Category                              Item    Serving Size  Calories  \\\n",
       "0  Breakfast                      Egg McMuffin  4.8 oz (136 g)       300   \n",
       "1  Breakfast                 Egg White Delight  4.8 oz (135 g)       250   \n",
       "2  Breakfast                  Sausage McMuffin  3.9 oz (111 g)       370   \n",
       "3  Breakfast         Sausage McMuffin with Egg  5.7 oz (161 g)       450   \n",
       "4  Breakfast  Sausage McMuffin with Egg Whites  5.7 oz (161 g)       400   \n",
       "\n",
       "   Calories from Fat  Total Fat  Total Fat (% Daily Value)  Saturated Fat  \\\n",
       "0                120       13.0                         20            5.0   \n",
       "1                 70        8.0                         12            3.0   \n",
       "2                200       23.0                         35            8.0   \n",
       "3                250       28.0                         43           10.0   \n",
       "4                210       23.0                         35            8.0   \n",
       "\n",
       "   Saturated Fat (% Daily Value)  Trans Fat  ...  Carbohydrates  \\\n",
       "0                             25        0.0  ...             31   \n",
       "1                             15        0.0  ...             30   \n",
       "2                             42        0.0  ...             29   \n",
       "3                             52        0.0  ...             30   \n",
       "4                             42        0.0  ...             30   \n",
       "\n",
       "   Carbohydrates (% Daily Value)  Dietary Fiber  \\\n",
       "0                             10              4   \n",
       "1                             10              4   \n",
       "2                             10              4   \n",
       "3                             10              4   \n",
       "4                             10              4   \n",
       "\n",
       "   Dietary Fiber (% Daily Value)  Sugars  Protein  Vitamin A (% Daily Value)  \\\n",
       "0                             17       3       17                         10   \n",
       "1                             17       3       18                          6   \n",
       "2                             17       2       14                          8   \n",
       "3                             17       2       21                         15   \n",
       "4                             17       2       21                          6   \n",
       "\n",
       "   Vitamin C (% Daily Value)  Calcium (% Daily Value)  Iron (% Daily Value)  \n",
       "0                          0                       25                    15  \n",
       "1                          0                       25                     8  \n",
       "2                          0                       25                    10  \n",
       "3                          0                       30                    15  \n",
       "4                          0                       25                    10  \n",
       "\n",
       "[5 rows x 24 columns]"
      ]
     },
     "execution_count": 48,
     "metadata": {},
     "output_type": "execute_result"
    }
   ],
   "source": [
    "df.head()"
   ]
  },
  {
   "cell_type": "markdown",
   "id": "fe70d8fb",
   "metadata": {},
   "source": [
    "# 2.Descriptive Statistics: Calculate basic statistics (mean, median, mode, standard deviation)"
   ]
  },
  {
   "cell_type": "code",
   "execution_count": null,
   "id": "2d931453",
   "metadata": {},
   "outputs": [],
   "source": [
    "\n",
    "from statistics import mean, median, mode, stdev\n",
    "\n",
    "# Basic descriptive statistics\n",
    "print(df.describe())\n",
    "\n",
    "#calories across the df\n",
    "print(df['Calories from Fat'].describe())\n",
    "\n"
   ]
  },
  {
   "cell_type": "markdown",
   "id": "68f67d48",
   "metadata": {},
   "source": [
    "# 3.Time Series Analysis: Analyze sales trends over time using time series techniques."
   ]
  },
  {
   "cell_type": "code",
   "execution_count": null,
   "id": "be8fd596",
   "metadata": {
    "scrolled": false
   },
   "outputs": [],
   "source": [
    "\n",
    "\n",
    "## Group data by category and calculate mean nutritional values\n",
    "category_nutrition = df.groupby('Category')['Calories'].mean()\n",
    "# Example: Average calories by category\n",
    "print(category_nutrition.sort_values(ascending=False))\n"
   ]
  },
  {
   "cell_type": "markdown",
   "id": "62a94c58",
   "metadata": {},
   "source": [
    "# 4.Customer and Product Analysis: Analyze customer demographics and purchasing behavior"
   ]
  },
  {
   "cell_type": "code",
   "execution_count": 52,
   "id": "bc2ed253",
   "metadata": {},
   "outputs": [
    {
     "name": "stdout",
     "output_type": "stream",
     "text": [
      "                                                  Item  Protein\n",
      "82                        Chicken McNuggets (40 piece)       87\n",
      "47                  Double Quarter Pounder with Cheese       48\n",
      "81                        Chicken McNuggets (20 piece)       44\n",
      "64            Bacon Clubhouse Grilled Chicken Sandwich       40\n",
      "60               Premium Grilled Chicken Club Sandwich       40\n",
      "51                              Bacon Clubhouse Burger       39\n",
      "45           Quarter Pounder with Bacon Habanero Ranch       37\n",
      "44                 Quarter Pounder with Bacon & Cheese       37\n",
      "32         Big Breakfast with Hotcakes (Large Biscuit)       36\n",
      "62          Premium Grilled Chicken Ranch BLT Sandwich       36\n",
      "63             Bacon Clubhouse Crispy Chicken Sandwich       36\n",
      "71    Premium McWrap Chicken & Bacon (Grilled Chicken)       36\n",
      "59                Premium Crispy Chicken Club Sandwich       36\n",
      "31       Big Breakfast with Hotcakes (Regular Biscuit)       36\n",
      "33   Big Breakfast with Hotcakes and Egg Whites (Re...       35\n",
      "34   Big Breakfast with Hotcakes and Egg Whites (La...       35\n",
      "26                           Steak, Egg & Cheese Bagel       33\n",
      "70     Premium McWrap Chicken & Bacon (Crispy Chicken)       32\n",
      "61           Premium Crispy Chicken Ranch BLT Sandwich       32\n",
      "75   Premium McWrap Southwest Chicken (Grilled Chic...       31\n",
      "43                         Quarter Pounder with Cheese       30\n",
      "73    Premium McWrap Chicken & Ranch (Grilled Chicken)       30\n",
      "25           Bacon, Egg & Cheese Bagel with Egg Whites       30\n",
      "24                           Bacon, Egg & Cheese Bagel       30\n",
      "46                              Quarter Pounder Deluxe       29\n",
      "86      Premium Bacon Ranch Salad with Grilled Chicken       29\n",
      "28                       Big Breakfast (Large Biscuit)       28\n",
      "27                     Big Breakfast (Regular Biscuit)       28\n",
      "58            Premium Grilled Chicken Classic Sandwich       28\n",
      "74   Premium McWrap Southwest Chicken (Crispy Chicken)       27\n",
      "77   Premium McWrap Chicken Sweet Chili (Grilled Ch...       27\n",
      "72     Premium McWrap Chicken & Ranch (Crispy Chicken)       27\n",
      "53                                      Bacon McDouble       27\n",
      "89        Premium Southwest Salad with Grilled Chicken       27\n",
      "30       Big Breakfast with Egg Whites (Large Biscuit)       26\n",
      "5                                 Steak & Egg McMuffin       26\n",
      "29     Big Breakfast with Egg Whites (Regular Biscuit)       26\n",
      "18               Steak & Egg Biscuit (Regular Biscuit)       25\n",
      "85       Premium Bacon Ranch Salad with Crispy Chicken       25\n",
      "57             Premium Crispy Chicken Classic Sandwich       24\n",
      "42                                             Big Mac       24\n",
      "50                                 Double Cheeseburger       24\n",
      "76   Premium McWrap Chicken Sweet Chili (Crispy Chi...       23\n",
      "88         Premium Southwest Salad with Crispy Chicken       23\n",
      "56                                               McRib       22\n",
      "52                                            McDouble       22\n",
      "67                             Bacon Cheddar McChicken       22\n",
      "54                                        Daily Double       22\n",
      "80                        Chicken McNuggets (10 piece)       22\n",
      "55                                     Jalapeño Double       22\n",
      "3                            Sausage McMuffin with Egg       21\n",
      "65              Southern Style Crispy Chicken Sandwich       21\n",
      "4                     Sausage McMuffin with Egg Whites       21\n",
      "23    Sausage, Egg & Cheese McGriddles with Egg Whites       21\n",
      "258  McFlurry with Reese's Peanut Butter Cups (Medium)       21\n",
      "                                             Item  Calories\n",
      "125                        Diet Dr Pepper (Child)         0\n",
      "124                        Diet Dr Pepper (Large)         0\n",
      "137                              Iced Tea (Small)         0\n",
      "138                             Iced Tea (Medium)         0\n",
      "139                              Iced Tea (Large)         0\n",
      "..                                            ...       ...\n",
      "215          Iced Mocha with Nonfat Milk (Medium)       290\n",
      "49                                   Cheeseburger       290\n",
      "40                          Fruit & Maple Oatmeal       290\n",
      "211                            Iced Mocha (Small)       290\n",
      "89   Premium Southwest Salad with Grilled Chicken       290\n",
      "\n",
      "[113 rows x 2 columns]\n"
     ]
    }
   ],
   "source": [
    "\n",
    "# High protein items\n",
    "high_protein = df[df['Protein'] > 20].sort_values('Protein', ascending=False)\n",
    "print(high_protein[['Item', 'Protein']])\n",
    "\n",
    "# Low calorie items\n",
    "low_calorie = df[df['Calories'] < 300].sort_values('Calories')\n",
    "print(low_calorie[['Item', 'Calories']])"
   ]
  },
  {
   "cell_type": "markdown",
   "id": "ae4f3613",
   "metadata": {},
   "source": [
    "# 5.Visualization: Present insights through bar charts, line plots, and heatmaps."
   ]
  },
  {
   "cell_type": "code",
   "execution_count": 57,
   "id": "a0e35c2a",
   "metadata": {},
   "outputs": [
    {
     "name": "stderr",
     "output_type": "stream",
     "text": [
      "C:\\Users\\Asus\\anaconda3\\Lib\\site-packages\\seaborn\\_oldcore.py:1119: FutureWarning: use_inf_as_na option is deprecated and will be removed in a future version. Convert inf values to NaN before operating instead.\n",
      "  with pd.option_context('mode.use_inf_as_na', True):\n"
     ]
    },
    {
     "data": {
      "image/png": "[encoded data removed]",
      "text/plain": [
       "<Figure size 640x480 with 1 Axes>"
      ]
     },
     "metadata": {},
     "output_type": "display_data"
    },
    {
     "data": {
      "image/png": "[encoded data removed]",
      "text/plain": [
       "<Figure size 1200x800 with 1 Axes>"
      ]
     },
     "metadata": {},
     "output_type": "display_data"
    }
   ],
   "source": [
    "\n",
    "import matplotlib.pyplot as plt\n",
    "import seaborn as sns\n",
    "\n",
    "# Calories distribution across the menu\n",
    "sns.histplot(df['Calories from Fat'], bins=20, kde=True)\n",
    "plt.title('Calories Distribution Across McDonald\\'s df')\n",
    "plt.xlabel('Calories')\n",
    "plt.ylabel('Frequency')\n",
    "plt.show()\n",
    "\n",
    "# Average calories by category\n",
    "plt.figure(figsize=(12, 8))\n",
    "sns.barplot(x=category_nutrition.values, y=category_nutrition.index, palette=\"viridis\")\n",
    "plt.title('Average Calories by Category')\n",
    "plt.xlabel('Average Calories')\n",
    "plt.ylabel('Category')\n",
    "plt.show()"
   ]
  },
  {
   "cell_type": "markdown",
   "id": "c88ef312",
   "metadata": {},
   "source": [
    "# 6.Recommendations: Provide actionable recommendations based on the EDA.   \n"
   ]
  },
  {
   "cell_type": "markdown",
   "id": "ba35900a",
   "metadata": {},
   "source": [
    "\n",
    "Prefer Items from Certain Categories: Recommend categories with generally lower average calories and better nutritional profiles for customers aiming for healthier options.\n",
    "\n",
    "\n",
    "Highlight Nutritional Superstars: Identify and promote items that are particularly high in protein or other nutrients but lower in calories and unhealthy fats.\n",
    "\n",
    "\n",
    "Custom Nutritional Guidance: Offer personalized meal suggestions based on specific dietary goals, leveraging the insights from the item analysis."
   ]
  },
  {
   "cell_type": "code",
   "execution_count": null,
   "id": "fe7bad8f",
   "metadata": {},
   "outputs": [],
   "source": []
  }
 ],
 "metadata": {
  "kernelspec": {
   "display_name": "Python 3 (ipykernel)",
   "language": "python",
   "name": "python3"
  },
  "language_info": {
   "codemirror_mode": {
    "name": "ipython",
    "version": 3
   },
   "file_extension": ".py",
   "mimetype": "text/x-python",
   "name": "python",
   "nbconvert_exporter": "python",
   "pygments_lexer": "ipython3",
   "version": "3.11.3"
  }
 },
 "nbformat": 4,
 "nbformat_minor": 5
}
